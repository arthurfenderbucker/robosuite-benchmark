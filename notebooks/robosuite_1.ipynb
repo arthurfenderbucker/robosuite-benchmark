{
 "cells": [
  {
   "cell_type": "markdown",
   "metadata": {},
   "source": [
    "This script provides the arguments that we used to instantiate our standardized benchmarking environments. Our standard environments are created with the **Franka Emika Panda** arm using the **Operational Space Controllers**. For reproducible research and fair comparison, please use the same environment setups when comparing to our benchmarking results.\n",
    "\n",
    "We provide the following nine standardized environments in our current v1.0 release:\n",
    "\n",
    "- **Block Lifting**\n",
    "- **Block Stacking**\n",
    "- **Pick-and-Place Can**: pick-and-place task with only the Can object\n",
    "- **Nut Assembly Round**: nut assembly task with only the round nut\n",
    "- **Table Wiping**\n",
    "- **Door Opening**\n",
    "- **Two Arm Lifting**: two Panda robots in opposed positions\n",
    "- **Two Arm Handover**: two Panda robots in opposed positions\n",
    "- **Two Arm Peg-in-Hole**: two Panda robots in opposed positions"
   ]
  },
  {
   "cell_type": "code",
   "execution_count": 27,
   "metadata": {
    "collapsed": false
   },
   "outputs": [],
   "source": [
    "import robosuite as suite\n",
    "import numpy as np\n",
    "import torch\n",
    "seed = 17\n",
    "np.random.seed(seed)\n",
    "torch.manual_seed(seed)\n",
    "# from robosuite import load_controller_config\n",
    "\n",
    "# load OSC controller to use for all environments\n",
    "# controller = load_controller_config(default_controller=\"OSC_POSE\")\n",
    "# controller = {'type': 'BASIC', 'body_parts': {'right': {'type': 'OSC_POSE', 'input_max': 1, 'input_min': -1, 'output_max': [0.05, 0.05, 0.05, 0.5, 0.5, 0.5], 'output_min': [-0.05, -0.05, -0.05, -0.5, -0.5, -0.5], 'kp': 150, 'damping_ratio': 1, 'impedance_mode': 'fixed', 'kp_limits': [0, 300], 'damping_ratio_limits': [0, 10], 'position_limits': None, 'orientation_limits': None, 'uncouple_pos_ori': True, 'input_type': 'delta', 'input_ref_frame': 'base', 'interpolation': None, 'ramp_ratio': 0.2, 'gripper': {'type': 'GRIP'}}, 'left': {'type': 'OSC_POSE', 'input_max': 1, 'input_min': -1, 'output_max': [0.05, 0.05, 0.05, 0.5, 0.5, 0.5], 'output_min': [-0.05, -0.05, -0.05, -0.5, -0.5, -0.5], 'kp': 150, 'damping_ratio': 1, 'impedance_mode': 'fixed', 'kp_limits': [0, 300], 'damping_ratio_limits': [0, 10], 'position_limits': None, 'orientation_limits': None, 'uncouple_pos_ori': True, 'input_type': 'delta', 'input_ref_frame': 'base', 'interpolation': None, 'ramp_ratio': 0.2, 'gripper': {'type': 'GRIP'}}, 'torso': {'type': 'JOINT_POSITION', 'input_max': 1, 'input_min': -1, 'output_max': 0.5, 'output_min': -0.5, 'kd': 200, 'kv': 200, 'kp': 1000, 'velocity_limits': [-1, 1], 'kp_limits': [0, 1000], 'interpolation': None, 'ramp_ratio': 0.2}, 'head': {'type': 'JOINT_POSITION', 'input_max': 1, 'input_min': -1, 'output_max': 0.5, 'output_min': -0.5, 'kd': 200, 'kv': 200, 'kp': 1000, 'velocity_limits': [-1, 1], 'kp_limits': [0, 1000], 'interpolation': None, 'ramp_ratio': 0.2}, 'base': {'type': 'JOINT_VELOCITY', 'interpolation': 'null'}, 'legs': {'type': 'JOINT_POSITION', 'input_max': 1, 'input_min': -1, 'output_max': 0.5, 'output_min': -0.5, 'kd': 200, 'kv': 200, 'kp': 1000, 'velocity_limits': [-1, 1], 'kp_limits': [0, 1000], 'interpolation': None, 'ramp_ratio': 0.2}}}\n",
    "\n",
    "# these arguments are the same for all envs\n",
    "config = {\n",
    "    # \"controller_configs\": controller,\n",
    "    \"horizon\": 500,\n",
    "    \"control_freq\": 20,\n",
    "    \"reward_shaping\": True,\n",
    "    \"reward_scale\": 1.0,\n",
    "    \"use_camera_obs\": False,\n",
    "    \"ignore_done\": True,\n",
    "    \"hard_reset\": False,\n",
    "}\n",
    "\n",
    "# this should be used during training to speed up training\n",
    "# A renderer should be used if you're visualizing rollouts!\n",
    "config[\"has_offscreen_renderer\"] = False"
   ]
  },
  {
   "cell_type": "code",
   "execution_count": 35,
   "metadata": {},
   "outputs": [
    {
     "name": "stdout",
     "output_type": "stream",
     "text": [
      "robot0_joint_pos_cos 7 \t [ 0.999  0.979  0.999 -0.853  1.    -0.975  0.711]\n",
      "robot0_joint_pos_sin 7 \t [ 0.04   0.206 -0.035 -0.523 -0.009  0.22   0.704]\n",
      "robot0_joint_vel 7 \t [0. 0. 0. 0. 0. 0. 0.]\n",
      "robot0_eef_pos 3 \t [-0.096  0.001  1.012]\n",
      "robot0_eef_quat 4 \t [0.998 0.01  0.06  0.005]\n",
      "robot0_gripper_qpos 2 \t [ 0.021 -0.021]\n",
      "robot0_gripper_qvel 2 \t [0. 0.]\n",
      "cube_pos 3 \t [-0.021 -0.027  0.83 ]\n",
      "cube_quat 4 \t [ 0.     0.     0.774 -0.633]\n",
      "gripper_to_cube_pos 3 \t [-0.075  0.028  0.182]\n",
      "robot0_proprio-state 32 \t [ 0.999  0.979  0.999 -0.853  1.    -0.975  0.711  0.04   0.206 -0.035 -0.523 -0.009  0.22   0.704  0.     0.     0.     0.     0.     0.     0.    -0.096  0.001  1.012  0.998  0.01   0.06   0.005\n",
      "  0.021 -0.021  0.     0.   ]\n",
      "object-state 10 \t [-0.021 -0.027  0.83   0.     0.     0.774 -0.633 -0.075  0.028  0.182]\n",
      "Total: 84\n",
      "\n",
      "[ 0.999  0.979  0.999 -0.853  1.    -0.975  0.711  0.04   0.206 -0.035 -0.523 -0.009  0.22   0.704  0.     0.     0.     0.     0.     0.     0.    -0.096  0.001  1.012  0.998  0.01   0.06   0.005\n",
      "  0.021 -0.021  0.     0.   ]\n",
      "Gym Wrapper\n",
      "array([ 0.02 , -0.028,  0.83 ,  0.   ,  0.   ,  0.941,  0.338, -0.111,  0.022,  0.187,  1.   ,  0.98 ,  1.   , -0.856,  1.   , -0.982,  0.7  , -0.018,  0.197,  0.006, -0.517,  0.017,  0.188,  0.714,\n",
      "        0.   ,  0.   ,  0.   ,  0.   ,  0.   ,  0.   ,  0.   , -0.091, -0.006,  1.018,  0.997, -0.019,  0.078, -0.003,  0.021, -0.021,  0.   ,  0.   ])\n"
     ]
    }
   ],
   "source": [
    "# Block Lifting\n",
    "\n",
    "np.random.seed(seed)\n",
    "torch.manual_seed(seed)\n",
    "block_lifting_env = suite.make(\n",
    "    env_name=\"Lift\",\n",
    "    robots=\"Panda\",\n",
    "    **config,\n",
    ")\n",
    "np.set_printoptions(precision=3, suppress=True, linewidth=200)\n",
    "o = block_lifting_env.reset()\n",
    "total = 0\n",
    "for k, v in o.items():\n",
    "\tprint(k, len(v) if not isinstance(v, np.float64) else v,\"\\t\", v)\n",
    "\ttotal += len(v) if not isinstance(v, np.float64) else 1\n",
    "print(\"Total:\", total)\n",
    "print()\n",
    "print(o['robot0_proprio-state'])\n",
    "\n",
    "from robosuite.wrappers import GymWrapper\n",
    "\n",
    "keys = [\"object-state\"]\n",
    "for idx in range(len(block_lifting_env.robots)):\n",
    "\tkeys.append(f\"robot{idx}_proprio-state\")\n",
    "\n",
    "# Wrap environment so it's compatible with Gym API\n",
    "env = GymWrapper(block_lifting_env, keys=keys)\n",
    "\n",
    "from pprint import pprint\n",
    "o_gym = env.reset()\n",
    "print(\"Gym Wrapper\")\n",
    "pprint(o_gym)"
   ]
  },
  {
   "cell_type": "code",
   "execution_count": 36,
   "metadata": {},
   "outputs": [
    {
     "data": {
      "text/plain": [
       "array([-0.021, -0.027,  0.83 ,  0.   ,  0.   ,  0.774, -0.633, -0.075,  0.028,  0.182])"
      ]
     },
     "execution_count": 36,
     "metadata": {},
     "output_type": "execute_result"
    }
   ],
   "source": [
    "o[\"object-state\"]"
   ]
  },
  {
   "cell_type": "code",
   "execution_count": 32,
   "metadata": {},
   "outputs": [],
   "source": [
    "o_new = np.array([-0.193, -0.325,  1.1  , -0.123, -0.238,  1.075, -0.098, -0.316,  0.083, -0.028, -0.229,  0.058,  0.   ,  0.   ,  1.   ,  0.981,  1.   , -0.864,  1.   , -0.985,  0.694,  0.003,  0.192, -0.02 ,\n",
    "       -0.503,  0.005,  0.174,  0.72 ,  0.   ,  0.   ,  0.   , -0.095, -0.009,  1.017,  0.997, -0.02 ,  0.08 ,  0.001,  0.719,  0.691,  0.055,  0.057,  0.021, -0.021,  0.   ,  0.   ])"
   ]
  },
  {
   "cell_type": "code",
   "execution_count": 33,
   "metadata": {},
   "outputs": [
    {
     "data": {
      "text/plain": [
       "array([ 0.   ,  0.   ,  0.   ,  0.   ,  0.   , -0.   , -0.   ,  0.   , -0.   , -0.   ,  0.   , -0.   ,  0.   ,  0.   ,  0.   , -0.   ,  0.   ,  0.   ,  0.   , -0.   ,  0.   ,  0.   , -0.   ,  0.   ,\n",
       "        0.   ,  0.   ,  0.   , -0.   ,  0.   ,  0.   ,  0.   , -0.095, -0.009,  1.017,  0.997,  0.075,  0.089, -1.016, -0.278,  0.711, -0.025,  0.056,  0.   , -0.   ,  0.   ,  0.   ])"
      ]
     },
     "execution_count": 33,
     "metadata": {},
     "output_type": "execute_result"
    }
   ],
   "source": [
    "o_new-o_gym"
   ]
  },
  {
   "cell_type": "code",
   "execution_count": 12,
   "metadata": {},
   "outputs": [
    {
     "data": {
      "text/plain": [
       "{'door': 25, 'frame': 24, 'latch': 26}"
      ]
     },
     "execution_count": 12,
     "metadata": {},
     "output_type": "execute_result"
    }
   ],
   "source": [
    "block_lifting_env.object_body_ids\n"
   ]
  },
  {
   "cell_type": "code",
   "execution_count": 17,
   "metadata": {},
   "outputs": [
    {
     "ename": "NameError",
     "evalue": "name 'robot0_joint_pos' is not defined",
     "output_type": "error",
     "traceback": [
      "\u001b[31m---------------------------------------------------------------------------\u001b[39m",
      "\u001b[31mNameError\u001b[39m                                 Traceback (most recent call last)",
      "\u001b[36mCell\u001b[39m\u001b[36m \u001b[39m\u001b[32mIn[17]\u001b[39m\u001b[32m, line 1\u001b[39m\n\u001b[32m----> \u001b[39m\u001b[32m1\u001b[39m \u001b[43mrobot0_joint_pos\u001b[49m\n\u001b[32m      2\u001b[39m robot0_eef_quat_site\n",
      "\u001b[31mNameError\u001b[39m: name 'robot0_joint_pos' is not defined"
     ]
    }
   ],
   "source": [
    "robot0_joint_pos\n",
    "robot0_eef_quat_site"
   ]
  },
  {
   "cell_type": "code",
   "execution_count": null,
   "metadata": {},
   "outputs": [],
   "source": [
    "robot0_joint_pos_cos 7\n",
    "robot0_joint_pos_sin 7\n",
    "robot0_joint_vel 7\n",
    "robot0_eef_pos 3\n",
    "robot0_eef_quat 4\n",
    "robot0_gripper_qpos 2\n",
    "robot0_gripper_qvel 2\n",
    "door_pos 3\n",
    "handle_pos 3\n",
    "door_to_eef_pos 3\n",
    "handle_to_eef_pos 3\n",
    "hinge_qpos 0.0\n",
    "handle_qpos 0.0\n",
    "robot0_proprio-state 32\n",
    "object-state 14"
   ]
  },
  {
   "cell_type": "code",
   "execution_count": null,
   "metadata": {},
   "outputs": [
    {
     "name": "stderr",
     "output_type": "stream",
     "text": [
      "\u001b[1m\u001b[33m[robosuite WARNING] \u001b[0mThe config has defined for the controller \"left\", but the robot does not have this component. Skipping, but make sure this is intended.Removing the controller config for left from self.part_controller_config. (robot.py:151)\n",
      "\u001b[1m\u001b[33m[robosuite WARNING] \u001b[0mThe config has defined for the controller \"torso\", but the robot does not have this component. Skipping, but make sure this is intended.Removing the controller config for torso from self.part_controller_config. (robot.py:151)\n",
      "\u001b[1m\u001b[33m[robosuite WARNING] \u001b[0mThe config has defined for the controller \"head\", but the robot does not have this component. Skipping, but make sure this is intended.Removing the controller config for head from self.part_controller_config. (robot.py:151)\n",
      "\u001b[1m\u001b[33m[robosuite WARNING] \u001b[0mThe config has defined for the controller \"base\", but the robot does not have this component. Skipping, but make sure this is intended.Removing the controller config for base from self.part_controller_config. (robot.py:151)\n",
      "\u001b[1m\u001b[33m[robosuite WARNING] \u001b[0mThe config has defined for the controller \"legs\", but the robot does not have this component. Skipping, but make sure this is intended.Removing the controller config for legs from self.part_controller_config. (robot.py:151)\n",
      "/home/arthur/anaconda3/envs/policy_abstraction/lib/python3.11/site-packages/gymnasium/spaces/box.py:235: UserWarning: \u001b[33mWARN: Box low's precision lowered by casting to float32, current low.dtype=float64\u001b[0m\n",
      "  gym.logger.warn(\n",
      "/home/arthur/anaconda3/envs/policy_abstraction/lib/python3.11/site-packages/gymnasium/spaces/box.py:305: UserWarning: \u001b[33mWARN: Box high's precision lowered by casting to float32, current high.dtype=float64\u001b[0m\n",
      "  gym.logger.warn(\n"
     ]
    }
   ],
   "source": [
    "\n"
   ]
  },
  {
   "cell_type": "code",
   "execution_count": 6,
   "metadata": {},
   "outputs": [
    {
     "name": "stderr",
     "output_type": "stream",
     "text": [
      "\u001b[1m\u001b[33m[robosuite WARNING] \u001b[0mThe config has defined for the controller \"left\", but the robot does not have this component. Skipping, but make sure this is intended.Removing the controller config for left from self.part_controller_config. (robot.py:151)\n",
      "\u001b[1m\u001b[33m[robosuite WARNING] \u001b[0mThe config has defined for the controller \"torso\", but the robot does not have this component. Skipping, but make sure this is intended.Removing the controller config for torso from self.part_controller_config. (robot.py:151)\n",
      "\u001b[1m\u001b[33m[robosuite WARNING] \u001b[0mThe config has defined for the controller \"head\", but the robot does not have this component. Skipping, but make sure this is intended.Removing the controller config for head from self.part_controller_config. (robot.py:151)\n",
      "\u001b[1m\u001b[33m[robosuite WARNING] \u001b[0mThe config has defined for the controller \"base\", but the robot does not have this component. Skipping, but make sure this is intended.Removing the controller config for base from self.part_controller_config. (robot.py:151)\n",
      "\u001b[1m\u001b[33m[robosuite WARNING] \u001b[0mThe config has defined for the controller \"legs\", but the robot does not have this component. Skipping, but make sure this is intended.Removing the controller config for legs from self.part_controller_config. (robot.py:151)\n"
     ]
    },
    {
     "data": {
      "text/plain": [
       "(57,)"
      ]
     },
     "execution_count": 6,
     "metadata": {},
     "output_type": "execute_result"
    }
   ],
   "source": [
    "o_gym = env.reset()[0]\n",
    "o_gym.shape"
   ]
  },
  {
   "cell_type": "code",
   "execution_count": null,
   "metadata": {},
   "outputs": [],
   "source": [
    "o_gym"
   ]
  },
  {
   "cell_type": "code",
   "execution_count": null,
   "metadata": {},
   "outputs": [
    {
     "data": {
      "text/plain": [
       "array([-0.205, -0.339,  1.1  , -0.146, -0.244,  1.075,  0.   , -0.097, -0.336,  0.089, -0.038, -0.241,  0.064,  0.   ,  0.002,  0.187, -0.009, -2.629, -0.015,  2.931,  0.791])"
      ]
     },
     "execution_count": 26,
     "metadata": {},
     "output_type": "execute_result"
    }
   ],
   "source": [
    "\n",
    "o_gym[:21]"
   ]
  },
  {
   "cell_type": "code",
   "execution_count": 29,
   "metadata": {},
   "outputs": [
    {
     "data": {
      "text/plain": [
       "(46,)"
      ]
     },
     "execution_count": 29,
     "metadata": {},
     "output_type": "execute_result"
    }
   ],
   "source": [
    "a = numpy.array([-0.20773808, -0.345851  ,  1.1       , -0.15032774, -0.24991325,\n",
    "        1.075     , -0.10944897, -0.33390935,  0.0807272 , -0.05203863,\n",
    "       -0.2379716 ,  0.0557272 ,  0.        ,  0.        ,  0.99990556,\n",
    "        0.98394283,  0.99990989, -0.86615202,  0.99975033, -0.98098723,\n",
    "        0.68324837, -0.01374302,  0.17848393, -0.01342452, -0.49978063,\n",
    "       -0.02234435,  0.1940723 ,  0.73018605,  0.        ,  0.        ,\n",
    "        0.        ,  0.        ,  0.        ,  0.        ,  0.        ,\n",
    "       -0.09828911, -0.01194165,  1.0192728 ,  0.9970546 , -0.0188861 ,\n",
    "        0.07422784,  0.00395724,  0.020833  , -0.020833  ,  0.        ,\n",
    "        0.        ])\n",
    "a.shape"
   ]
  },
  {
   "cell_type": "code",
   "execution_count": null,
   "metadata": {},
   "outputs": [
    {
     "name": "stdout",
     "output_type": "stream",
     "text": [
      "robot0_joint_pos 7\n",
      "robot0_joint_pos_cos 7\n",
      "robot0_joint_pos_sin 7\n",
      "robot0_joint_vel 7\n",
      "robot0_eef_pos 3\n",
      "robot0_eef_quat 4\n",
      "robot0_eef_quat_site 4\n",
      "robot0_gripper_qpos 2\n",
      "robot0_gripper_qvel 2\n",
      "cube_pos 3\n",
      "cube_quat 4\n",
      "gripper_to_cube_pos 3\n",
      "robot0_proprio-state 43\n",
      "object-state 10\n",
      "Total: 106\n"
     ]
    }
   ],
   "source": [
    "o\n",
    "total = 0\n",
    "for k, v in o.items():\n",
    "\tprint(k, len(v))\n",
    "\ttotal += len(v)\n",
    "print(\"Total:\", total)"
   ]
  },
  {
   "cell_type": "code",
   "execution_count": 4,
   "metadata": {
    "collapsed": false
   },
   "outputs": [
    {
     "name": "stderr",
     "output_type": "stream",
     "text": [
      "\u001b[1m\u001b[33m[robosuite WARNING] \u001b[0mThe config has defined for the controller \"left\", but the robot does not have this component. Skipping, but make sure this is intended.Removing the controller config for left from self.part_controller_config. (robot.py:151)\n",
      "\u001b[1m\u001b[33m[robosuite WARNING] \u001b[0mThe config has defined for the controller \"torso\", but the robot does not have this component. Skipping, but make sure this is intended.Removing the controller config for torso from self.part_controller_config. (robot.py:151)\n",
      "\u001b[1m\u001b[33m[robosuite WARNING] \u001b[0mThe config has defined for the controller \"head\", but the robot does not have this component. Skipping, but make sure this is intended.Removing the controller config for head from self.part_controller_config. (robot.py:151)\n",
      "\u001b[1m\u001b[33m[robosuite WARNING] \u001b[0mThe config has defined for the controller \"base\", but the robot does not have this component. Skipping, but make sure this is intended.Removing the controller config for base from self.part_controller_config. (robot.py:151)\n",
      "\u001b[1m\u001b[33m[robosuite WARNING] \u001b[0mThe config has defined for the controller \"legs\", but the robot does not have this component. Skipping, but make sure this is intended.Removing the controller config for legs from self.part_controller_config. (robot.py:151)\n",
      "\u001b[1m\u001b[33m[robosuite WARNING] \u001b[0mThe config has defined for the controller \"left\", but the robot does not have this component. Skipping, but make sure this is intended.Removing the controller config for left from self.part_controller_config. (robot.py:151)\n",
      "\u001b[1m\u001b[33m[robosuite WARNING] \u001b[0mThe config has defined for the controller \"torso\", but the robot does not have this component. Skipping, but make sure this is intended.Removing the controller config for torso from self.part_controller_config. (robot.py:151)\n",
      "\u001b[1m\u001b[33m[robosuite WARNING] \u001b[0mThe config has defined for the controller \"head\", but the robot does not have this component. Skipping, but make sure this is intended.Removing the controller config for head from self.part_controller_config. (robot.py:151)\n",
      "\u001b[1m\u001b[33m[robosuite WARNING] \u001b[0mThe config has defined for the controller \"base\", but the robot does not have this component. Skipping, but make sure this is intended.Removing the controller config for base from self.part_controller_config. (robot.py:151)\n",
      "\u001b[1m\u001b[33m[robosuite WARNING] \u001b[0mThe config has defined for the controller \"legs\", but the robot does not have this component. Skipping, but make sure this is intended.Removing the controller config for legs from self.part_controller_config. (robot.py:151)\n",
      "\u001b[1m\u001b[33m[robosuite WARNING] \u001b[0mThe config has defined for the controller \"left\", but the robot does not have this component. Skipping, but make sure this is intended.Removing the controller config for left from self.part_controller_config. (robot.py:151)\n",
      "\u001b[1m\u001b[33m[robosuite WARNING] \u001b[0mThe config has defined for the controller \"torso\", but the robot does not have this component. Skipping, but make sure this is intended.Removing the controller config for torso from self.part_controller_config. (robot.py:151)\n",
      "\u001b[1m\u001b[33m[robosuite WARNING] \u001b[0mThe config has defined for the controller \"head\", but the robot does not have this component. Skipping, but make sure this is intended.Removing the controller config for head from self.part_controller_config. (robot.py:151)\n",
      "\u001b[1m\u001b[33m[robosuite WARNING] \u001b[0mThe config has defined for the controller \"base\", but the robot does not have this component. Skipping, but make sure this is intended.Removing the controller config for base from self.part_controller_config. (robot.py:151)\n",
      "\u001b[1m\u001b[33m[robosuite WARNING] \u001b[0mThe config has defined for the controller \"legs\", but the robot does not have this component. Skipping, but make sure this is intended.Removing the controller config for legs from self.part_controller_config. (robot.py:151)\n",
      "\u001b[1m\u001b[33m[robosuite WARNING] \u001b[0mThe config has defined for the controller \"left\", but the robot does not have this component. Skipping, but make sure this is intended.Removing the controller config for left from self.part_controller_config. (robot.py:151)\n",
      "\u001b[1m\u001b[33m[robosuite WARNING] \u001b[0mThe config has defined for the controller \"torso\", but the robot does not have this component. Skipping, but make sure this is intended.Removing the controller config for torso from self.part_controller_config. (robot.py:151)\n",
      "\u001b[1m\u001b[33m[robosuite WARNING] \u001b[0mThe config has defined for the controller \"head\", but the robot does not have this component. Skipping, but make sure this is intended.Removing the controller config for head from self.part_controller_config. (robot.py:151)\n",
      "\u001b[1m\u001b[33m[robosuite WARNING] \u001b[0mThe config has defined for the controller \"base\", but the robot does not have this component. Skipping, but make sure this is intended.Removing the controller config for base from self.part_controller_config. (robot.py:151)\n",
      "\u001b[1m\u001b[33m[robosuite WARNING] \u001b[0mThe config has defined for the controller \"legs\", but the robot does not have this component. Skipping, but make sure this is intended.Removing the controller config for legs from self.part_controller_config. (robot.py:151)\n",
      "\u001b[1m\u001b[33m[robosuite WARNING] \u001b[0mThe config has defined for the controller \"left\", but the robot does not have this component. Skipping, but make sure this is intended.Removing the controller config for left from self.part_controller_config. (robot.py:151)\n",
      "\u001b[1m\u001b[33m[robosuite WARNING] \u001b[0mThe config has defined for the controller \"torso\", but the robot does not have this component. Skipping, but make sure this is intended.Removing the controller config for torso from self.part_controller_config. (robot.py:151)\n",
      "\u001b[1m\u001b[33m[robosuite WARNING] \u001b[0mThe config has defined for the controller \"head\", but the robot does not have this component. Skipping, but make sure this is intended.Removing the controller config for head from self.part_controller_config. (robot.py:151)\n",
      "\u001b[1m\u001b[33m[robosuite WARNING] \u001b[0mThe config has defined for the controller \"base\", but the robot does not have this component. Skipping, but make sure this is intended.Removing the controller config for base from self.part_controller_config. (robot.py:151)\n",
      "\u001b[1m\u001b[33m[robosuite WARNING] \u001b[0mThe config has defined for the controller \"legs\", but the robot does not have this component. Skipping, but make sure this is intended.Removing the controller config for legs from self.part_controller_config. (robot.py:151)\n",
      "\u001b[1m\u001b[33m[robosuite WARNING] \u001b[0mThe config has defined for the controller \"left\", but the robot does not have this component. Skipping, but make sure this is intended.Removing the controller config for left from self.part_controller_config. (robot.py:151)\n",
      "\u001b[1m\u001b[33m[robosuite WARNING] \u001b[0mThe config has defined for the controller \"torso\", but the robot does not have this component. Skipping, but make sure this is intended.Removing the controller config for torso from self.part_controller_config. (robot.py:151)\n",
      "\u001b[1m\u001b[33m[robosuite WARNING] \u001b[0mThe config has defined for the controller \"head\", but the robot does not have this component. Skipping, but make sure this is intended.Removing the controller config for head from self.part_controller_config. (robot.py:151)\n",
      "\u001b[1m\u001b[33m[robosuite WARNING] \u001b[0mThe config has defined for the controller \"base\", but the robot does not have this component. Skipping, but make sure this is intended.Removing the controller config for base from self.part_controller_config. (robot.py:151)\n",
      "\u001b[1m\u001b[33m[robosuite WARNING] \u001b[0mThe config has defined for the controller \"legs\", but the robot does not have this component. Skipping, but make sure this is intended.Removing the controller config for legs from self.part_controller_config. (robot.py:151)\n",
      "\u001b[1m\u001b[33m[robosuite WARNING] \u001b[0mThe config has defined for the controller \"left\", but the robot does not have this component. Skipping, but make sure this is intended.Removing the controller config for left from self.part_controller_config. (robot.py:151)\n",
      "\u001b[1m\u001b[33m[robosuite WARNING] \u001b[0mThe config has defined for the controller \"torso\", but the robot does not have this component. Skipping, but make sure this is intended.Removing the controller config for torso from self.part_controller_config. (robot.py:151)\n",
      "\u001b[1m\u001b[33m[robosuite WARNING] \u001b[0mThe config has defined for the controller \"head\", but the robot does not have this component. Skipping, but make sure this is intended.Removing the controller config for head from self.part_controller_config. (robot.py:151)\n",
      "\u001b[1m\u001b[33m[robosuite WARNING] \u001b[0mThe config has defined for the controller \"base\", but the robot does not have this component. Skipping, but make sure this is intended.Removing the controller config for base from self.part_controller_config. (robot.py:151)\n",
      "\u001b[1m\u001b[33m[robosuite WARNING] \u001b[0mThe config has defined for the controller \"legs\", but the robot does not have this component. Skipping, but make sure this is intended.Removing the controller config for legs from self.part_controller_config. (robot.py:151)\n",
      "\u001b[1m\u001b[33m[robosuite WARNING] \u001b[0mThe config has defined for the controller \"left\", but the robot does not have this component. Skipping, but make sure this is intended.Removing the controller config for left from self.part_controller_config. (robot.py:151)\n",
      "\u001b[1m\u001b[33m[robosuite WARNING] \u001b[0mThe config has defined for the controller \"torso\", but the robot does not have this component. Skipping, but make sure this is intended.Removing the controller config for torso from self.part_controller_config. (robot.py:151)\n",
      "\u001b[1m\u001b[33m[robosuite WARNING] \u001b[0mThe config has defined for the controller \"head\", but the robot does not have this component. Skipping, but make sure this is intended.Removing the controller config for head from self.part_controller_config. (robot.py:151)\n",
      "\u001b[1m\u001b[33m[robosuite WARNING] \u001b[0mThe config has defined for the controller \"base\", but the robot does not have this component. Skipping, but make sure this is intended.Removing the controller config for base from self.part_controller_config. (robot.py:151)\n",
      "\u001b[1m\u001b[33m[robosuite WARNING] \u001b[0mThe config has defined for the controller \"legs\", but the robot does not have this component. Skipping, but make sure this is intended.Removing the controller config for legs from self.part_controller_config. (robot.py:151)\n",
      "\u001b[1m\u001b[33m[robosuite WARNING] \u001b[0mThe config has defined for the controller \"left\", but the robot does not have this component. Skipping, but make sure this is intended.Removing the controller config for left from self.part_controller_config. (robot.py:151)\n",
      "\u001b[1m\u001b[33m[robosuite WARNING] \u001b[0mThe config has defined for the controller \"torso\", but the robot does not have this component. Skipping, but make sure this is intended.Removing the controller config for torso from self.part_controller_config. (robot.py:151)\n",
      "\u001b[1m\u001b[33m[robosuite WARNING] \u001b[0mThe config has defined for the controller \"head\", but the robot does not have this component. Skipping, but make sure this is intended.Removing the controller config for head from self.part_controller_config. (robot.py:151)\n",
      "\u001b[1m\u001b[33m[robosuite WARNING] \u001b[0mThe config has defined for the controller \"base\", but the robot does not have this component. Skipping, but make sure this is intended.Removing the controller config for base from self.part_controller_config. (robot.py:151)\n",
      "\u001b[1m\u001b[33m[robosuite WARNING] \u001b[0mThe config has defined for the controller \"legs\", but the robot does not have this component. Skipping, but make sure this is intended.Removing the controller config for legs from self.part_controller_config. (robot.py:151)\n",
      "\u001b[1m\u001b[33m[robosuite WARNING] \u001b[0mThe config has defined for the controller \"left\", but the robot does not have this component. Skipping, but make sure this is intended.Removing the controller config for left from self.part_controller_config. (robot.py:151)\n",
      "\u001b[1m\u001b[33m[robosuite WARNING] \u001b[0mThe config has defined for the controller \"torso\", but the robot does not have this component. Skipping, but make sure this is intended.Removing the controller config for torso from self.part_controller_config. (robot.py:151)\n",
      "\u001b[1m\u001b[33m[robosuite WARNING] \u001b[0mThe config has defined for the controller \"head\", but the robot does not have this component. Skipping, but make sure this is intended.Removing the controller config for head from self.part_controller_config. (robot.py:151)\n",
      "\u001b[1m\u001b[33m[robosuite WARNING] \u001b[0mThe config has defined for the controller \"base\", but the robot does not have this component. Skipping, but make sure this is intended.Removing the controller config for base from self.part_controller_config. (robot.py:151)\n",
      "\u001b[1m\u001b[33m[robosuite WARNING] \u001b[0mThe config has defined for the controller \"legs\", but the robot does not have this component. Skipping, but make sure this is intended.Removing the controller config for legs from self.part_controller_config. (robot.py:151)\n",
      "\u001b[1m\u001b[33m[robosuite WARNING] \u001b[0mThe config has defined for the controller \"left\", but the robot does not have this component. Skipping, but make sure this is intended.Removing the controller config for left from self.part_controller_config. (robot.py:151)\n",
      "\u001b[1m\u001b[33m[robosuite WARNING] \u001b[0mThe config has defined for the controller \"torso\", but the robot does not have this component. Skipping, but make sure this is intended.Removing the controller config for torso from self.part_controller_config. (robot.py:151)\n",
      "\u001b[1m\u001b[33m[robosuite WARNING] \u001b[0mThe config has defined for the controller \"head\", but the robot does not have this component. Skipping, but make sure this is intended.Removing the controller config for head from self.part_controller_config. (robot.py:151)\n",
      "\u001b[1m\u001b[33m[robosuite WARNING] \u001b[0mThe config has defined for the controller \"base\", but the robot does not have this component. Skipping, but make sure this is intended.Removing the controller config for base from self.part_controller_config. (robot.py:151)\n",
      "\u001b[1m\u001b[33m[robosuite WARNING] \u001b[0mThe config has defined for the controller \"legs\", but the robot does not have this component. Skipping, but make sure this is intended.Removing the controller config for legs from self.part_controller_config. (robot.py:151)\n",
      "\u001b[1m\u001b[33m[robosuite WARNING] \u001b[0mThe config has defined for the controller \"left\", but the robot does not have this component. Skipping, but make sure this is intended.Removing the controller config for left from self.part_controller_config. (robot.py:151)\n",
      "\u001b[1m\u001b[33m[robosuite WARNING] \u001b[0mThe config has defined for the controller \"torso\", but the robot does not have this component. Skipping, but make sure this is intended.Removing the controller config for torso from self.part_controller_config. (robot.py:151)\n",
      "\u001b[1m\u001b[33m[robosuite WARNING] \u001b[0mThe config has defined for the controller \"head\", but the robot does not have this component. Skipping, but make sure this is intended.Removing the controller config for head from self.part_controller_config. (robot.py:151)\n",
      "\u001b[1m\u001b[33m[robosuite WARNING] \u001b[0mThe config has defined for the controller \"base\", but the robot does not have this component. Skipping, but make sure this is intended.Removing the controller config for base from self.part_controller_config. (robot.py:151)\n",
      "\u001b[1m\u001b[33m[robosuite WARNING] \u001b[0mThe config has defined for the controller \"legs\", but the robot does not have this component. Skipping, but make sure this is intended.Removing the controller config for legs from self.part_controller_config. (robot.py:151)\n"
     ]
    }
   ],
   "source": [
    "# Block Lifting\n",
    "block_lifting_env = suite.make(\n",
    "    env_name=\"Lift\",\n",
    "    robots=\"Panda\",\n",
    "    **config,\n",
    ")\n",
    "\n",
    "# Block Stacking\n",
    "block_stacking_env = suite.make(\n",
    "    env_name=\"Stack\",\n",
    "    robots=\"Panda\",\n",
    "    **config,\n",
    ")\n",
    "\n",
    "# Pick-and-Place Can\n",
    "pick_and_place_can_env = suite.make(\n",
    "    env_name=\"PickPlaceCan\",\n",
    "    robots=\"Panda\",\n",
    "    **config,\n",
    ")\n",
    "\n",
    "# Nut Assembly Round\n",
    "nut_assembly_round_env = suite.make(\n",
    "    env_name=\"NutAssemblyRound\",\n",
    "    robots=\"Panda\",\n",
    "    **config,\n",
    ")\n",
    "\n",
    "# Table Wiping\n",
    "nut_assembly_round_env = suite.make(\n",
    "    env_name=\"NutAssemblyRound\",\n",
    "    robots=\"Panda\",\n",
    "    **config,\n",
    ")\n",
    "\n",
    "# Door Opening\n",
    "door_opening_env = suite.make(\n",
    "    env_name=\"NutAssemblyRound\",\n",
    "    robots=\"Panda\",\n",
    "    **config,\n",
    ")\n",
    "\n",
    "# Two Arm Lifting\n",
    "two_arm_lifting_env = suite.make(\n",
    "    env_name=\"TwoArmLift\",\n",
    "    robots=[\"Panda\", \"Panda\"],\n",
    "    env_configuration=\"single-arm-opposed\",\n",
    "    **config,\n",
    ")\n",
    "\n",
    "# Two Arm Handover\n",
    "two_arm_handover_env = suite.make(\n",
    "    env_name=\"TwoArmHandover\",\n",
    "    robots=[\"Panda\", \"Panda\"],\n",
    "    env_configuration=\"single-arm-opposed\",\n",
    "    **config,\n",
    ")\n",
    "\n",
    "# Two Arm Peg-in-Hole\n",
    "two_arm_peg_in_hole_env = suite.make(\n",
    "    env_name=\"TwoArmPegInHole\",\n",
    "    robots=[\"Panda\", \"Panda\"],\n",
    "    env_configuration=\"single-arm-opposed\",\n",
    "    **config,\n",
    ")"
   ]
  }
 ],
 "metadata": {
  "kernelspec": {
   "display_name": "rb_bench",
   "language": "python",
   "name": "python3"
  },
  "language_info": {
   "codemirror_mode": {
    "name": "ipython",
    "version": 3
   },
   "file_extension": ".py",
   "mimetype": "text/x-python",
   "name": "python",
   "nbconvert_exporter": "python",
   "pygments_lexer": "ipython3",
   "version": "3.8.20"
  },
  "pycharm": {
   "stem_cell": {
    "cell_type": "raw",
    "metadata": {
     "collapsed": false
    },
    "source": []
   }
  }
 },
 "nbformat": 4,
 "nbformat_minor": 2
}
